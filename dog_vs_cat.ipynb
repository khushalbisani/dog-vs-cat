{
  "nbformat": 4,
  "nbformat_minor": 0,
  "metadata": {
    "colab": {
      "name": "dog-vs-cat.ipynb",
      "version": "0.3.2",
      "provenance": [],
      "collapsed_sections": [],
      "include_colab_link": true
    },
    "kernelspec": {
      "name": "python3",
      "display_name": "Python 3"
    },
    "accelerator": "GPU"
  },
  "cells": [
    {
      "cell_type": "markdown",
      "metadata": {
        "id": "view-in-github",
        "colab_type": "text"
      },
      "source": [
        "<a href=\"https://colab.research.google.com/github/khushalbisani/dog-vs-cat/blob/master/dog_vs_cat.ipynb\" target=\"_parent\"><img src=\"https://colab.research.google.com/assets/colab-badge.svg\" alt=\"Open In Colab\"/></a>"
      ]
    },
    {
      "cell_type": "markdown",
      "metadata": {
        "id": "JyJfJCHrodou",
        "colab_type": "text"
      },
      "source": [
        "import libraries"
      ]
    },
    {
      "cell_type": "code",
      "metadata": {
        "id": "Bq_KUeJGl4E3",
        "colab_type": "code",
        "outputId": "64afb6f5-242e-4016-9635-61326c17b705",
        "colab": {
          "base_uri": "https://localhost:8080/",
          "height": 34
        }
      },
      "source": [
        "import numpy as np\n",
        "import pandas as pd\n",
        "import matplotlib.pyplot as plt\n",
        "import tensorflow as tf\n",
        "import keras\n",
        "from keras.layers import Activation, Dense, Dropout, Conv2D, Flatten, MaxPooling2D ,GlobalAveragePooling2D\n",
        "from keras.models import Sequential\n",
        "import random\n",
        "import os\n",
        "import  IPython.display as ipd\n",
        "import cv2\n",
        "from PIL import Image\n",
        "%matplotlib inline"
      ],
      "execution_count": 1,
      "outputs": [
        {
          "output_type": "stream",
          "text": [
            "Using TensorFlow backend.\n"
          ],
          "name": "stderr"
        }
      ]
    },
    {
      "cell_type": "code",
      "metadata": {
        "id": "bEGQ5q1Im7bf",
        "colab_type": "code",
        "outputId": "ad334f27-4f48-4759-b17b-79768c946634",
        "colab": {
          "base_uri": "https://localhost:8080/",
          "height": 121
        }
      },
      "source": [
        "from google.colab import drive\n",
        "drive.mount('/content/drive/')"
      ],
      "execution_count": 2,
      "outputs": [
        {
          "output_type": "stream",
          "text": [
            "Go to this URL in a browser: https://accounts.google.com/o/oauth2/auth?client_id=947318989803-6bn6qk8qdgf4n4g3pfee6491hc0brc4i.apps.googleusercontent.com&redirect_uri=urn%3Aietf%3Awg%3Aoauth%3A2.0%3Aoob&scope=email%20https%3A%2F%2Fwww.googleapis.com%2Fauth%2Fdocs.test%20https%3A%2F%2Fwww.googleapis.com%2Fauth%2Fdrive%20https%3A%2F%2Fwww.googleapis.com%2Fauth%2Fdrive.photos.readonly%20https%3A%2F%2Fwww.googleapis.com%2Fauth%2Fpeopleapi.readonly&response_type=code\n",
            "\n",
            "Enter your authorization code:\n",
            "··········\n",
            "Mounted at /content/drive/\n"
          ],
          "name": "stdout"
        }
      ]
    },
    {
      "cell_type": "code",
      "metadata": {
        "id": "7B4HDy9nnZxf",
        "colab_type": "code",
        "outputId": "3d4ea4df-bc3f-4633-9a21-4de47396ea66",
        "colab": {
          "base_uri": "https://localhost:8080/",
          "height": 67
        }
      },
      "source": [
        "! free -m"
      ],
      "execution_count": 3,
      "outputs": [
        {
          "output_type": "stream",
          "text": [
            "              total        used        free      shared  buff/cache   available\n",
            "Mem:          13022         523       10363           0        2135       12226\n",
            "Swap:             0           0           0\n"
          ],
          "name": "stdout"
        }
      ]
    },
    {
      "cell_type": "code",
      "metadata": {
        "id": "FB1s2EDCndTm",
        "colab_type": "code",
        "outputId": "4fd30d9b-bd41-43d8-985f-704318b0c33f",
        "colab": {
          "base_uri": "https://localhost:8080/",
          "height": 84
        }
      },
      "source": [
        "!ls \"/content/drive/My Drive\""
      ],
      "execution_count": 4,
      "outputs": [
        {
          "output_type": "stream",
          "text": [
            "'Colab Notebooks'   khushal.jpg\t\t\t 'Untitled document (3).gdoc'\n",
            " Datasets\t    signature.jpg\t\t 'Untitled document.gdoc'\n",
            "'jii wedding'\t   'Untitled document (1).gdoc'\n",
            " KHUSHAL\t   'Untitled document (2).gdoc'\n"
          ],
          "name": "stdout"
        }
      ]
    },
    {
      "cell_type": "code",
      "metadata": {
        "id": "49hB18MVndax",
        "colab_type": "code",
        "colab": {}
      },
      "source": [
        "os.chdir(\"/content/drive/My Drive/Datasets/dogvscat\")\n",
        "\n",
        "# !unzip dogs-vs-cats.zip"
      ],
      "execution_count": 0,
      "outputs": []
    },
    {
      "cell_type": "code",
      "metadata": {
        "id": "xBwaXUr9nddN",
        "colab_type": "code",
        "colab": {}
      },
      "source": [
        "# !unzip train.zip\n",
        "# !unzip test1.zip"
      ],
      "execution_count": 0,
      "outputs": []
    },
    {
      "cell_type": "code",
      "metadata": {
        "id": "sM8cBN0Jndf1",
        "colab_type": "code",
        "outputId": "06cdb605-eaa6-4e45-e55a-1aa0efcccdc2",
        "colab": {
          "base_uri": "https://localhost:8080/",
          "height": 195
        }
      },
      "source": [
        "path = \"/content/drive/My Drive/Datasets/dogvscat/\"\n",
        "sam_sub = pd.read_csv(path + \"sampleSubmission.csv\")\n",
        "sam_sub.head()"
      ],
      "execution_count": 7,
      "outputs": [
        {
          "output_type": "execute_result",
          "data": {
            "text/html": [
              "<div>\n",
              "<style scoped>\n",
              "    .dataframe tbody tr th:only-of-type {\n",
              "        vertical-align: middle;\n",
              "    }\n",
              "\n",
              "    .dataframe tbody tr th {\n",
              "        vertical-align: top;\n",
              "    }\n",
              "\n",
              "    .dataframe thead th {\n",
              "        text-align: right;\n",
              "    }\n",
              "</style>\n",
              "<table border=\"1\" class=\"dataframe\">\n",
              "  <thead>\n",
              "    <tr style=\"text-align: right;\">\n",
              "      <th></th>\n",
              "      <th>id</th>\n",
              "      <th>label</th>\n",
              "    </tr>\n",
              "  </thead>\n",
              "  <tbody>\n",
              "    <tr>\n",
              "      <th>0</th>\n",
              "      <td>1</td>\n",
              "      <td>0</td>\n",
              "    </tr>\n",
              "    <tr>\n",
              "      <th>1</th>\n",
              "      <td>2</td>\n",
              "      <td>0</td>\n",
              "    </tr>\n",
              "    <tr>\n",
              "      <th>2</th>\n",
              "      <td>3</td>\n",
              "      <td>0</td>\n",
              "    </tr>\n",
              "    <tr>\n",
              "      <th>3</th>\n",
              "      <td>4</td>\n",
              "      <td>0</td>\n",
              "    </tr>\n",
              "    <tr>\n",
              "      <th>4</th>\n",
              "      <td>5</td>\n",
              "      <td>0</td>\n",
              "    </tr>\n",
              "  </tbody>\n",
              "</table>\n",
              "</div>"
            ],
            "text/plain": [
              "   id  label\n",
              "0   1      0\n",
              "1   2      0\n",
              "2   3      0\n",
              "3   4      0\n",
              "4   5      0"
            ]
          },
          "metadata": {
            "tags": []
          },
          "execution_count": 7
        }
      ]
    },
    {
      "cell_type": "code",
      "metadata": {
        "id": "wYcZTkC7ndit",
        "colab_type": "code",
        "outputId": "1a935a44-eed1-4569-9541-4cead48366a6",
        "colab": {
          "base_uri": "https://localhost:8080/",
          "height": 84
        }
      },
      "source": [
        "!ls \"/content/drive/My Drive/Datasets/dogvscat\""
      ],
      "execution_count": 8,
      "outputs": [
        {
          "output_type": "stream",
          "text": [
            "dog_cat_model1.h5\t   dogs-vs-cats.zip\t np_array_train_y.npy\n",
            "dog_cat_model.h5\t   np_array_test_x.npy\t sampleSubmission.csv\n",
            "dog_cat_model_weights1.h5  np_array_test_y.npy\t test1.zip\n",
            "dog_cat_model_weights.h5   np_array_train_x.npy  train.zip\n"
          ],
          "name": "stdout"
        }
      ]
    },
    {
      "cell_type": "code",
      "metadata": {
        "id": "beAMxj91ndlN",
        "colab_type": "code",
        "colab": {}
      },
      "source": [
        "# def extract_name(file):\n",
        "#   x = file.split(\".\")[0]\n",
        "#   if str(x) == str(\"cat\"):\n",
        "#     return [1,0]\n",
        "#   else:\n",
        "#     return [0,1]\n",
        "  "
      ],
      "execution_count": 0,
      "outputs": []
    },
    {
      "cell_type": "code",
      "metadata": {
        "id": "LUnjiy3Hndrd",
        "colab_type": "code",
        "colab": {}
      },
      "source": [
        "# feature_data = []\n",
        "# for j,file in enumerate(os.listdir(path+\"train\")):\n",
        "#   #print(j)\n",
        "#   img=Image.open(path+\"train/\"+file)\n",
        "#   img = img.resize((128,128))  \n",
        "#   ar=np.array(img)\n",
        "#   feature_data.append((ar,extract_name(file)))\n",
        "#   #print(feature_data[j])\n",
        "#   if j%1000==0:\n",
        "#     print(j)"
      ],
      "execution_count": 0,
      "outputs": []
    },
    {
      "cell_type": "code",
      "metadata": {
        "id": "RPP7X352ndum",
        "colab_type": "code",
        "colab": {}
      },
      "source": [
        "# fdata = feature_data\n",
        "# random.shuffle(fdata)\n",
        "\n",
        "# train = fdata[:20000]\n",
        "# test = fdata[20000:]\n",
        "\n",
        "# train_x , train_y = zip(*train)\n",
        "# test_x , test_y = zip(*test)\n",
        "\n",
        "# train_x = np.array(train_x)\n",
        "# train_y = np.array(train_y)\n",
        "\n",
        "# test_x = np.array(test_x)\n",
        "# test_y = np.array(test_y)"
      ],
      "execution_count": 0,
      "outputs": []
    },
    {
      "cell_type": "code",
      "metadata": {
        "id": "veKpYmoHndxd",
        "colab_type": "code",
        "colab": {}
      },
      "source": [
        "# print(train_x.shape)\n",
        "# print(train_y.shape)\n",
        "# print(test_x.shape)\n",
        "# print(test_y.shape)"
      ],
      "execution_count": 0,
      "outputs": []
    },
    {
      "cell_type": "code",
      "metadata": {
        "id": "1dSeuSSend3G",
        "colab_type": "code",
        "colab": {}
      },
      "source": [
        "# np.save(path+'np_array_train_x.npy', train_x)\n",
        "# np.save(path+'np_array_train_y.npy', train_y)\n",
        "# np.save(path+'np_array_test_x.npy', test_x)\n",
        "# np.save(path+'np_array_test_y.npy', test_y) "
      ],
      "execution_count": 0,
      "outputs": []
    },
    {
      "cell_type": "code",
      "metadata": {
        "id": "CZmaZj1Nnd57",
        "colab_type": "code",
        "colab": {}
      },
      "source": [
        "train_x = np.load(path+'np_array_train_x.npy')\n",
        "train_y = np.load(path+'np_array_train_y.npy')\n",
        "test_x = np.load(path+'np_array_test_x.npy')\n",
        "test_y = np.load(path+'np_array_test_y.npy') "
      ],
      "execution_count": 0,
      "outputs": []
    },
    {
      "cell_type": "code",
      "metadata": {
        "id": "FlFkqKjWXdGc",
        "colab_type": "code",
        "outputId": "6e97282a-5c79-4b46-e3ce-2cf0cb0bc786",
        "colab": {
          "base_uri": "https://localhost:8080/",
          "height": 84
        }
      },
      "source": [
        "print(train_x.shape)\n",
        "print(train_y.shape)\n",
        "print(test_x.shape)\n",
        "print(test_y.shape)"
      ],
      "execution_count": 14,
      "outputs": [
        {
          "output_type": "stream",
          "text": [
            "(20000, 128, 128, 3)\n",
            "(20000, 2)\n",
            "(5000, 128, 128, 3)\n",
            "(5000, 2)\n"
          ],
          "name": "stdout"
        }
      ]
    },
    {
      "cell_type": "code",
      "metadata": {
        "id": "XBRHDHGFnd9E",
        "colab_type": "code",
        "outputId": "f972645c-5622-49e1-fc68-49fd03b18733",
        "colab": {
          "base_uri": "https://localhost:8080/",
          "height": 272
        }
      },
      "source": [
        "from keras.models import Sequential\n",
        "from keras.layers import Dense , MaxPool2D , Conv2D , Flatten , Dropout ,Activation\n",
        "\n",
        "model = Sequential()\n",
        "\n",
        "model.add(Conv2D(filters = 32, kernel_size = (5,5),padding = 'Same', \n",
        "                 activation ='relu', input_shape = (128,128,3)))\n",
        "model.add(Conv2D(filters = 32, kernel_size = (5,5),padding = 'Same', \n",
        "                 activation ='relu'))\n",
        "model.add(MaxPool2D(pool_size=(2,2)))\n",
        "model.add(Dropout(0.25))\n",
        "\n",
        "\n",
        "model.add(Conv2D(filters = 64, kernel_size = (3,3),padding = 'Same', \n",
        "                 activation ='relu'))\n",
        "model.add(Conv2D(filters = 64, kernel_size = (3,3),padding = 'Same', \n",
        "                 activation ='relu'))\n",
        "model.add(MaxPool2D(pool_size=(2,2), strides=(2,2)))\n",
        "model.add(Dropout(0.25))\n",
        "\n",
        "\n",
        "model.add(Flatten())\n",
        "model.add(Dense(256, activation = \"relu\"))\n",
        "model.add(Dropout(0.5))\n",
        "model.add(Dense(2, activation = \"softmax\"))"
      ],
      "execution_count": 15,
      "outputs": [
        {
          "output_type": "stream",
          "text": [
            "WARNING: Logging before flag parsing goes to stderr.\n",
            "W0810 15:39:51.402467 140614306064256 deprecation_wrapper.py:119] From /usr/local/lib/python3.6/dist-packages/keras/backend/tensorflow_backend.py:74: The name tf.get_default_graph is deprecated. Please use tf.compat.v1.get_default_graph instead.\n",
            "\n",
            "W0810 15:39:51.437452 140614306064256 deprecation_wrapper.py:119] From /usr/local/lib/python3.6/dist-packages/keras/backend/tensorflow_backend.py:517: The name tf.placeholder is deprecated. Please use tf.compat.v1.placeholder instead.\n",
            "\n",
            "W0810 15:39:51.443647 140614306064256 deprecation_wrapper.py:119] From /usr/local/lib/python3.6/dist-packages/keras/backend/tensorflow_backend.py:4138: The name tf.random_uniform is deprecated. Please use tf.random.uniform instead.\n",
            "\n",
            "W0810 15:39:51.482708 140614306064256 deprecation_wrapper.py:119] From /usr/local/lib/python3.6/dist-packages/keras/backend/tensorflow_backend.py:3976: The name tf.nn.max_pool is deprecated. Please use tf.nn.max_pool2d instead.\n",
            "\n",
            "W0810 15:39:51.486589 140614306064256 deprecation_wrapper.py:119] From /usr/local/lib/python3.6/dist-packages/keras/backend/tensorflow_backend.py:133: The name tf.placeholder_with_default is deprecated. Please use tf.compat.v1.placeholder_with_default instead.\n",
            "\n",
            "W0810 15:39:51.496506 140614306064256 deprecation.py:506] From /usr/local/lib/python3.6/dist-packages/keras/backend/tensorflow_backend.py:3445: calling dropout (from tensorflow.python.ops.nn_ops) with keep_prob is deprecated and will be removed in a future version.\n",
            "Instructions for updating:\n",
            "Please use `rate` instead of `keep_prob`. Rate should be set to `rate = 1 - keep_prob`.\n"
          ],
          "name": "stderr"
        }
      ]
    },
    {
      "cell_type": "code",
      "metadata": {
        "id": "pUqUbxvund_1",
        "colab_type": "code",
        "outputId": "beb56bd2-b3cb-492c-bd44-ff008b592b82",
        "colab": {
          "base_uri": "https://localhost:8080/",
          "height": 538
        }
      },
      "source": [
        "model.summary()"
      ],
      "execution_count": 16,
      "outputs": [
        {
          "output_type": "stream",
          "text": [
            "_________________________________________________________________\n",
            "Layer (type)                 Output Shape              Param #   \n",
            "=================================================================\n",
            "conv2d_1 (Conv2D)            (None, 128, 128, 32)      2432      \n",
            "_________________________________________________________________\n",
            "conv2d_2 (Conv2D)            (None, 128, 128, 32)      25632     \n",
            "_________________________________________________________________\n",
            "max_pooling2d_1 (MaxPooling2 (None, 64, 64, 32)        0         \n",
            "_________________________________________________________________\n",
            "dropout_1 (Dropout)          (None, 64, 64, 32)        0         \n",
            "_________________________________________________________________\n",
            "conv2d_3 (Conv2D)            (None, 64, 64, 64)        18496     \n",
            "_________________________________________________________________\n",
            "conv2d_4 (Conv2D)            (None, 64, 64, 64)        36928     \n",
            "_________________________________________________________________\n",
            "max_pooling2d_2 (MaxPooling2 (None, 32, 32, 64)        0         \n",
            "_________________________________________________________________\n",
            "dropout_2 (Dropout)          (None, 32, 32, 64)        0         \n",
            "_________________________________________________________________\n",
            "flatten_1 (Flatten)          (None, 65536)             0         \n",
            "_________________________________________________________________\n",
            "dense_1 (Dense)              (None, 256)               16777472  \n",
            "_________________________________________________________________\n",
            "dropout_3 (Dropout)          (None, 256)               0         \n",
            "_________________________________________________________________\n",
            "dense_2 (Dense)              (None, 2)                 514       \n",
            "=================================================================\n",
            "Total params: 16,861,474\n",
            "Trainable params: 16,861,474\n",
            "Non-trainable params: 0\n",
            "_________________________________________________________________\n"
          ],
          "name": "stdout"
        }
      ]
    },
    {
      "cell_type": "code",
      "metadata": {
        "id": "JYjbl_7QneC-",
        "colab_type": "code",
        "colab": {}
      },
      "source": [
        "from keras.optimizers import RMSprop\n",
        "from keras.optimizers import Adam,SGD\n",
        "optimizer = SGD(lr=0.01, momentum=0.9,nesterov=True)"
      ],
      "execution_count": 0,
      "outputs": []
    },
    {
      "cell_type": "code",
      "metadata": {
        "id": "2mtTfjjgneGW",
        "colab_type": "code",
        "colab": {}
      },
      "source": [
        "from keras.callbacks import ReduceLROnPlateau\n",
        "learning_rate_reduction = ReduceLROnPlateau(monitor='val_acc', \n",
        "                                            patience=3, \n",
        "                                            verbose=1, \n",
        "                                            factor=0.2, \n",
        "                                            min_lr=0.0001)"
      ],
      "execution_count": 0,
      "outputs": []
    },
    {
      "cell_type": "code",
      "metadata": {
        "id": "QANq_f5NneJa",
        "colab_type": "code",
        "outputId": "e8451d2a-742a-4aae-baa6-e254425e6f33",
        "colab": {
          "base_uri": "https://localhost:8080/",
          "height": 104
        }
      },
      "source": [
        "model.compile(optimizer = optimizer , loss = \"categorical_crossentropy\", metrics=[\"accuracy\"])"
      ],
      "execution_count": 19,
      "outputs": [
        {
          "output_type": "stream",
          "text": [
            "W0810 15:39:51.664369 140614306064256 deprecation_wrapper.py:119] From /usr/local/lib/python3.6/dist-packages/keras/optimizers.py:790: The name tf.train.Optimizer is deprecated. Please use tf.compat.v1.train.Optimizer instead.\n",
            "\n",
            "W0810 15:39:51.678869 140614306064256 deprecation_wrapper.py:119] From /usr/local/lib/python3.6/dist-packages/keras/backend/tensorflow_backend.py:3295: The name tf.log is deprecated. Please use tf.math.log instead.\n",
            "\n"
          ],
          "name": "stderr"
        }
      ]
    },
    {
      "cell_type": "code",
      "metadata": {
        "id": "GgutwFmtneMg",
        "colab_type": "code",
        "colab": {}
      },
      "source": [
        "epoch = 20\n",
        "batch_size = 100\n",
        "\n",
        "nb_train_sample = int(train_x.shape[0])\n",
        "nb_validation_sample = int(test_x.shape[0])\n",
        "\n",
        "train_steps = nb_train_sample // batch_size\n",
        "validation_steps = nb_validation_sample // batch_size"
      ],
      "execution_count": 0,
      "outputs": []
    },
    {
      "cell_type": "code",
      "metadata": {
        "id": "mDWVHzKYneQL",
        "colab_type": "code",
        "outputId": "adf92544-e86f-4eb1-c534-e9b85544b8d6",
        "colab": {
          "base_uri": "https://localhost:8080/",
          "height": 84
        }
      },
      "source": [
        "print(nb_train_sample)\n",
        "print(nb_validation_sample)\n",
        "print(train_steps)\n",
        "print(validation_steps)"
      ],
      "execution_count": 21,
      "outputs": [
        {
          "output_type": "stream",
          "text": [
            "20000\n",
            "5000\n",
            "200\n",
            "50\n"
          ],
          "name": "stdout"
        }
      ]
    },
    {
      "cell_type": "code",
      "metadata": {
        "id": "nWsTRwROneS0",
        "colab_type": "code",
        "colab": {}
      },
      "source": [
        "from keras.preprocessing.image import ImageDataGenerator\n",
        "\n",
        "train_datagen = ImageDataGenerator(rescale = 1./255,\n",
        "                                  shear_range = 0.2,\n",
        "                                  zoom_range = 0.2,\n",
        "                                  horizontal_flip = True)\n",
        "\n",
        "validation_datagen = ImageDataGenerator(rescale = 1./255,\n",
        "                                       shear_range = 0.2,\n",
        "                                       zoom_range = 0.2,\n",
        "                                       horizontal_flip = True)"
      ],
      "execution_count": 0,
      "outputs": []
    },
    {
      "cell_type": "code",
      "metadata": {
        "id": "w6Mem-12s6U1",
        "colab_type": "code",
        "colab": {}
      },
      "source": [
        "train_generator = train_datagen.flow(train_x,train_y , batch_size = batch_size)\n",
        "validation_generator = validation_datagen.flow(test_x,test_y,batch_size = batch_size)"
      ],
      "execution_count": 0,
      "outputs": []
    },
    {
      "cell_type": "code",
      "metadata": {
        "id": "Q80iKSVSf3Fh",
        "colab_type": "code",
        "outputId": "17629a74-fb74-4742-f71b-e30a131b65fd",
        "colab": {
          "base_uri": "https://localhost:8080/",
          "height": 50
        }
      },
      "source": [
        "print(len(train_generator))\n",
        "print(len(validation_generator))"
      ],
      "execution_count": 24,
      "outputs": [
        {
          "output_type": "stream",
          "text": [
            "200\n",
            "50\n"
          ],
          "name": "stdout"
        }
      ]
    },
    {
      "cell_type": "code",
      "metadata": {
        "id": "YNURHaE8s6Z0",
        "colab_type": "code",
        "outputId": "b378335f-caad-4a6a-f3a8-9654173d7e50",
        "colab": {
          "base_uri": "https://localhost:8080/",
          "height": 759
        }
      },
      "source": [
        "history = model.fit_generator(train_generator , \n",
        "                             steps_per_epoch = train_steps,\n",
        "                             epochs = epoch,\n",
        "                             validation_data = validation_generator,\n",
        "                             validation_steps = validation_steps,\n",
        "                             callbacks = [learning_rate_reduction]\n",
        "                             )"
      ],
      "execution_count": 25,
      "outputs": [
        {
          "output_type": "stream",
          "text": [
            "W0810 15:39:54.532181 140614306064256 deprecation.py:323] From /usr/local/lib/python3.6/dist-packages/tensorflow/python/ops/math_grad.py:1250: add_dispatch_support.<locals>.wrapper (from tensorflow.python.ops.array_ops) is deprecated and will be removed in a future version.\n",
            "Instructions for updating:\n",
            "Use tf.where in 2.0, which has the same broadcast rule as np.where\n"
          ],
          "name": "stderr"
        },
        {
          "output_type": "stream",
          "text": [
            "Epoch 1/20\n",
            "200/200 [==============================] - 91s 454ms/step - loss: 0.6852 - acc: 0.5527 - val_loss: 0.6769 - val_acc: 0.5660\n",
            "Epoch 2/20\n",
            "200/200 [==============================] - 80s 398ms/step - loss: 0.6567 - acc: 0.6103 - val_loss: 0.6424 - val_acc: 0.6304\n",
            "Epoch 3/20\n",
            "200/200 [==============================] - 79s 393ms/step - loss: 0.6002 - acc: 0.6748 - val_loss: 0.5676 - val_acc: 0.7080\n",
            "Epoch 4/20\n",
            "200/200 [==============================] - 78s 392ms/step - loss: 0.5587 - acc: 0.7101 - val_loss: 0.5393 - val_acc: 0.7272\n",
            "Epoch 5/20\n",
            "200/200 [==============================] - 78s 392ms/step - loss: 0.5321 - acc: 0.7310 - val_loss: 0.5290 - val_acc: 0.7360\n",
            "Epoch 6/20\n",
            "200/200 [==============================] - 79s 393ms/step - loss: 0.5060 - acc: 0.7470 - val_loss: 0.4875 - val_acc: 0.7676\n",
            "Epoch 7/20\n",
            "200/200 [==============================] - 78s 392ms/step - loss: 0.4763 - acc: 0.7711 - val_loss: 0.4445 - val_acc: 0.7966\n",
            "Epoch 8/20\n",
            "200/200 [==============================] - 78s 391ms/step - loss: 0.4542 - acc: 0.7850 - val_loss: 0.4438 - val_acc: 0.7890\n",
            "Epoch 9/20\n",
            "200/200 [==============================] - 78s 391ms/step - loss: 0.4359 - acc: 0.7948 - val_loss: 0.4896 - val_acc: 0.7644\n",
            "Epoch 10/20\n",
            "200/200 [==============================] - 78s 391ms/step - loss: 0.4197 - acc: 0.8082 - val_loss: 0.4131 - val_acc: 0.8158\n",
            "Epoch 11/20\n",
            "200/200 [==============================] - 78s 391ms/step - loss: 0.4063 - acc: 0.8139 - val_loss: 0.3929 - val_acc: 0.8262\n",
            "Epoch 12/20\n",
            "200/200 [==============================] - 78s 391ms/step - loss: 0.3964 - acc: 0.8183 - val_loss: 0.3889 - val_acc: 0.8304\n",
            "Epoch 13/20\n",
            "200/200 [==============================] - 78s 391ms/step - loss: 0.3840 - acc: 0.8274 - val_loss: 0.3773 - val_acc: 0.8358\n",
            "Epoch 14/20\n",
            "200/200 [==============================] - 78s 392ms/step - loss: 0.3699 - acc: 0.8365 - val_loss: 0.3641 - val_acc: 0.8362\n",
            "Epoch 15/20\n",
            "200/200 [==============================] - 78s 391ms/step - loss: 0.3551 - acc: 0.8418 - val_loss: 0.3531 - val_acc: 0.8466\n",
            "Epoch 16/20\n",
            "200/200 [==============================] - 78s 391ms/step - loss: 0.3405 - acc: 0.8522 - val_loss: 0.3541 - val_acc: 0.8470\n",
            "Epoch 17/20\n",
            "200/200 [==============================] - 78s 391ms/step - loss: 0.3365 - acc: 0.8550 - val_loss: 0.3381 - val_acc: 0.8534\n",
            "Epoch 18/20\n",
            "200/200 [==============================] - 78s 392ms/step - loss: 0.3291 - acc: 0.8565 - val_loss: 0.3361 - val_acc: 0.8562\n",
            "Epoch 19/20\n",
            "200/200 [==============================] - 78s 391ms/step - loss: 0.3081 - acc: 0.8677 - val_loss: 0.3175 - val_acc: 0.8644\n",
            "Epoch 20/20\n",
            "200/200 [==============================] - 78s 392ms/step - loss: 0.3022 - acc: 0.8691 - val_loss: 0.3346 - val_acc: 0.8618\n"
          ],
          "name": "stdout"
        }
      ]
    },
    {
      "cell_type": "code",
      "metadata": {
        "id": "wJibrGxw2dXl",
        "colab_type": "code",
        "outputId": "08a9cd1d-53bd-403e-a506-8a1302257f91",
        "colab": {
          "base_uri": "https://localhost:8080/",
          "height": 34
        }
      },
      "source": [
        "print(history.history.keys())"
      ],
      "execution_count": 26,
      "outputs": [
        {
          "output_type": "stream",
          "text": [
            "dict_keys(['val_loss', 'val_acc', 'loss', 'acc', 'lr'])\n"
          ],
          "name": "stdout"
        }
      ]
    },
    {
      "cell_type": "code",
      "metadata": {
        "id": "Z3rOlJMps6cc",
        "colab_type": "code",
        "outputId": "5307a5cc-6bb6-48ef-a2dd-1d9c9923dc92",
        "colab": {
          "base_uri": "https://localhost:8080/",
          "height": 574
        }
      },
      "source": [
        "# summarize history for accuracy\n",
        "plt.plot(history.history['acc'])\n",
        "plt.plot(history.history['val_acc'])\n",
        "plt.title('model accuracy')\n",
        "plt.ylabel('accuracy')\n",
        "plt.xlabel('epoch')\n",
        "plt.legend(['train', 'test'], loc='upper left')\n",
        "plt.show()\n",
        "# summarize history for loss\n",
        "plt.plot(history.history['loss'])\n",
        "plt.plot(history.history['val_loss'])\n",
        "plt.title('model loss')\n",
        "plt.ylabel('loss')\n",
        "plt.xlabel('epoch')\n",
        "plt.legend(['train', 'test'], loc='upper left')\n",
        "plt.show()"
      ],
      "execution_count": 27,
      "outputs": [
        {
          "output_type": "display_data",
          "data": {
            "image/png": "[encoded data removed]",
            "text/plain": [
              "<Figure size 432x288 with 1 Axes>"
            ]
          },
          "metadata": {
            "tags": []
          }
        },
        {
          "output_type": "display_data",
          "data": {
            "image/png": "[encoded data removed]",
            "text/plain": [
              "<Figure size 432x288 with 1 Axes>"
            ]
          },
          "metadata": {
            "tags": []
          }
        }
      ]
    },
    {
      "cell_type": "code",
      "metadata": {
        "id": "WQukf6ubs6fh",
        "colab_type": "code",
        "outputId": "348fb01a-db7b-4416-b319-cc2614084fd8",
        "colab": {
          "base_uri": "https://localhost:8080/",
          "height": 34
        }
      },
      "source": [
        "model.evaluate_generator(train_generator,train_steps)"
      ],
      "execution_count": 28,
      "outputs": [
        {
          "output_type": "execute_result",
          "data": {
            "text/plain": [
              "[0.26946596428751945, 0.885950001180172]"
            ]
          },
          "metadata": {
            "tags": []
          },
          "execution_count": 28
        }
      ]
    },
    {
      "cell_type": "code",
      "metadata": {
        "id": "iJcXedYHs6iT",
        "colab_type": "code",
        "outputId": "60e407af-2e70-47a5-a74d-8b9cd09e31b3",
        "colab": {
          "base_uri": "https://localhost:8080/",
          "height": 34
        }
      },
      "source": [
        "model.evaluate_generator(validation_generator,validation_steps)"
      ],
      "execution_count": 29,
      "outputs": [
        {
          "output_type": "execute_result",
          "data": {
            "text/plain": [
              "[0.33664214104413986, 0.8570000004768371]"
            ]
          },
          "metadata": {
            "tags": []
          },
          "execution_count": 29
        }
      ]
    },
    {
      "cell_type": "code",
      "metadata": {
        "id": "1zF5n126s6lF",
        "colab_type": "code",
        "outputId": "c40976ea-4423-4565-bbcc-19154d1069f9",
        "colab": {
          "base_uri": "https://localhost:8080/",
          "height": 50
        }
      },
      "source": [
        "model.evaluate(test_x,test_y)"
      ],
      "execution_count": 30,
      "outputs": [
        {
          "output_type": "stream",
          "text": [
            "5000/5000 [==============================] - 3s 622us/step\n"
          ],
          "name": "stdout"
        },
        {
          "output_type": "execute_result",
          "data": {
            "text/plain": [
              "[3.0942885246276854, 0.801]"
            ]
          },
          "metadata": {
            "tags": []
          },
          "execution_count": 30
        }
      ]
    },
    {
      "cell_type": "code",
      "metadata": {
        "id": "qz-fqvPWs6oL",
        "colab_type": "code",
        "colab": {}
      },
      "source": [
        "model.save_weights(path+\"dog_cat_model_weights.h5\")\n",
        "model.save(path+'dog_cat_model.h5')"
      ],
      "execution_count": 0,
      "outputs": []
    },
    {
      "cell_type": "markdown",
      "metadata": {
        "id": "toM_YR470vNu",
        "colab_type": "text"
      },
      "source": [
        "Load saved previous model as new model"
      ]
    },
    {
      "cell_type": "code",
      "metadata": {
        "id": "U5QFKm4ns6rM",
        "colab_type": "code",
        "colab": {}
      },
      "source": [
        "from keras.models import load_model\n",
        "new_model = load_model(path + \"dog_cat_model.h5\")"
      ],
      "execution_count": 0,
      "outputs": []
    },
    {
      "cell_type": "code",
      "metadata": {
        "id": "RlHmQbPTs6t9",
        "colab_type": "code",
        "outputId": "b21ec4c0-3bab-4ff1-9cf7-e158950edd2c",
        "colab": {
          "base_uri": "https://localhost:8080/",
          "height": 756
        }
      },
      "source": [
        "history = new_model.fit_generator(train_generator , \n",
        "                             steps_per_epoch = train_steps,\n",
        "                             epochs = epoch,\n",
        "                             validation_data = validation_generator,\n",
        "                             validation_steps = validation_steps,\n",
        "                             callbacks = [learning_rate_reduction]\n",
        "                             )"
      ],
      "execution_count": 33,
      "outputs": [
        {
          "output_type": "stream",
          "text": [
            "Epoch 1/20\n",
            "200/200 [==============================] - 82s 410ms/step - loss: 0.2909 - acc: 0.8765 - val_loss: 0.3429 - val_acc: 0.8578\n",
            "Epoch 2/20\n",
            "200/200 [==============================] - 78s 390ms/step - loss: 0.2777 - acc: 0.8807 - val_loss: 0.3291 - val_acc: 0.8682\n",
            "Epoch 3/20\n",
            "200/200 [==============================] - 78s 391ms/step - loss: 0.2711 - acc: 0.8838 - val_loss: 0.3204 - val_acc: 0.8636\n",
            "Epoch 4/20\n",
            "200/200 [==============================] - 78s 391ms/step - loss: 0.2608 - acc: 0.8895 - val_loss: 0.3246 - val_acc: 0.8688\n",
            "Epoch 5/20\n",
            "200/200 [==============================] - 78s 392ms/step - loss: 0.2588 - acc: 0.8934 - val_loss: 0.2963 - val_acc: 0.8796\n",
            "Epoch 6/20\n",
            "200/200 [==============================] - 78s 391ms/step - loss: 0.2422 - acc: 0.8988 - val_loss: 0.3504 - val_acc: 0.8618\n",
            "Epoch 7/20\n",
            "200/200 [==============================] - 78s 390ms/step - loss: 0.2386 - acc: 0.8997 - val_loss: 0.3101 - val_acc: 0.8758\n",
            "Epoch 8/20\n",
            "200/200 [==============================] - 78s 390ms/step - loss: 0.2284 - acc: 0.9078 - val_loss: 0.3305 - val_acc: 0.8652\n",
            "\n",
            "Epoch 00008: ReduceLROnPlateau reducing learning rate to 0.0019999999552965165.\n",
            "Epoch 9/20\n",
            "200/200 [==============================] - 78s 392ms/step - loss: 0.1960 - acc: 0.9190 - val_loss: 0.2828 - val_acc: 0.8874\n",
            "Epoch 10/20\n",
            "200/200 [==============================] - 78s 392ms/step - loss: 0.1775 - acc: 0.9291 - val_loss: 0.2807 - val_acc: 0.8892\n",
            "Epoch 11/20\n",
            "200/200 [==============================] - 79s 393ms/step - loss: 0.1766 - acc: 0.9297 - val_loss: 0.2774 - val_acc: 0.8906\n",
            "Epoch 12/20\n",
            "200/200 [==============================] - 78s 391ms/step - loss: 0.1698 - acc: 0.9323 - val_loss: 0.2988 - val_acc: 0.8828\n",
            "Epoch 13/20\n",
            "200/200 [==============================] - 78s 391ms/step - loss: 0.1642 - acc: 0.9332 - val_loss: 0.2765 - val_acc: 0.8920\n",
            "Epoch 14/20\n",
            "200/200 [==============================] - 78s 389ms/step - loss: 0.1629 - acc: 0.9344 - val_loss: 0.2812 - val_acc: 0.8894\n",
            "Epoch 15/20\n",
            "200/200 [==============================] - 78s 391ms/step - loss: 0.1602 - acc: 0.9360 - val_loss: 0.2759 - val_acc: 0.8960\n",
            "Epoch 16/20\n",
            "200/200 [==============================] - 78s 390ms/step - loss: 0.1565 - acc: 0.9374 - val_loss: 0.2900 - val_acc: 0.8882\n",
            "Epoch 17/20\n",
            "200/200 [==============================] - 78s 389ms/step - loss: 0.1516 - acc: 0.9409 - val_loss: 0.2840 - val_acc: 0.8954\n",
            "Epoch 18/20\n",
            "200/200 [==============================] - 78s 388ms/step - loss: 0.1529 - acc: 0.9368 - val_loss: 0.2874 - val_acc: 0.8908\n",
            "\n",
            "Epoch 00018: ReduceLROnPlateau reducing learning rate to 0.0003999999724328518.\n",
            "Epoch 19/20\n",
            "200/200 [==============================] - 78s 388ms/step - loss: 0.1419 - acc: 0.9444 - val_loss: 0.2821 - val_acc: 0.8924\n",
            "Epoch 20/20\n",
            "200/200 [==============================] - 77s 387ms/step - loss: 0.1377 - acc: 0.9466 - val_loss: 0.2735 - val_acc: 0.8946\n"
          ],
          "name": "stdout"
        }
      ]
    },
    {
      "cell_type": "code",
      "metadata": {
        "id": "1ba3z-LCs6xL",
        "colab_type": "code",
        "outputId": "883f6dde-eb17-4ddf-aad4-639f41a5bb67",
        "colab": {
          "base_uri": "https://localhost:8080/",
          "height": 574
        }
      },
      "source": [
        "# summarize history for accuracy\n",
        "plt.plot(history.history['acc'])\n",
        "plt.plot(history.history['val_acc'])\n",
        "plt.title('model accuracy')\n",
        "plt.ylabel('accuracy')\n",
        "plt.xlabel('epoch')\n",
        "plt.legend(['train', 'test'], loc='upper left')\n",
        "plt.show()\n",
        "# summarize history for loss\n",
        "plt.plot(history.history['loss'])\n",
        "plt.plot(history.history['val_loss'])\n",
        "plt.title('model loss')\n",
        "plt.ylabel('loss')\n",
        "plt.xlabel('epoch')\n",
        "plt.legend(['train', 'test'], loc='upper left')\n",
        "plt.show()"
      ],
      "execution_count": 34,
      "outputs": [
        {
          "output_type": "display_data",
          "data": {
            "image/png": "[encoded data removed]",
            "text/plain": [
              "<Figure size 432x288 with 1 Axes>"
            ]
          },
          "metadata": {
            "tags": []
          }
        },
        {
          "output_type": "display_data",
          "data": {
            "image/png": "[encoded data removed]",
            "text/plain": [
              "<Figure size 432x288 with 1 Axes>"
            ]
          },
          "metadata": {
            "tags": []
          }
        }
      ]
    },
    {
      "cell_type": "code",
      "metadata": {
        "id": "J5wsqN-8s6z9",
        "colab_type": "code",
        "outputId": "49fd1d57-c4ba-4890-9984-54ff04e00c06",
        "colab": {
          "base_uri": "https://localhost:8080/",
          "height": 34
        }
      },
      "source": [
        "new_model.evaluate_generator(train_generator,train_steps)"
      ],
      "execution_count": 35,
      "outputs": [
        {
          "output_type": "execute_result",
          "data": {
            "text/plain": [
              "[0.0944520560465753, 0.9675000065565109]"
            ]
          },
          "metadata": {
            "tags": []
          },
          "execution_count": 35
        }
      ]
    },
    {
      "cell_type": "code",
      "metadata": {
        "id": "jrbIpxDSs626",
        "colab_type": "code",
        "outputId": "a35ed8b8-fb24-40a0-9064-fca9621b1ed3",
        "colab": {
          "base_uri": "https://localhost:8080/",
          "height": 34
        }
      },
      "source": [
        "new_model.evaluate_generator(validation_generator,validation_steps)"
      ],
      "execution_count": 36,
      "outputs": [
        {
          "output_type": "execute_result",
          "data": {
            "text/plain": [
              "[0.2776246535778046, 0.8988000047206879]"
            ]
          },
          "metadata": {
            "tags": []
          },
          "execution_count": 36
        }
      ]
    },
    {
      "cell_type": "code",
      "metadata": {
        "id": "4DL5YUxzs656",
        "colab_type": "code",
        "outputId": "cccf6ef4-c432-493b-9795-60ce1ed66fbd",
        "colab": {
          "base_uri": "https://localhost:8080/",
          "height": 50
        }
      },
      "source": [
        "new_model.evaluate(test_x,test_y)"
      ],
      "execution_count": 37,
      "outputs": [
        {
          "output_type": "stream",
          "text": [
            "5000/5000 [==============================] - 3s 542us/step\n"
          ],
          "name": "stdout"
        },
        {
          "output_type": "execute_result",
          "data": {
            "text/plain": [
              "[2.967984482192993, 0.8122]"
            ]
          },
          "metadata": {
            "tags": []
          },
          "execution_count": 37
        }
      ]
    },
    {
      "cell_type": "code",
      "metadata": {
        "id": "NfB_FuS8s7F6",
        "colab_type": "code",
        "colab": {}
      },
      "source": [
        "# model.save_weights(path+\"dog_cat_model_weights1.h5\")\n",
        "# model.save(path+'dog_cat_model1.h5')"
      ],
      "execution_count": 0,
      "outputs": []
    },
    {
      "cell_type": "markdown",
      "metadata": {
        "id": "bBMMxIWTs7DJ",
        "colab_type": "text"
      },
      "source": [
        "Applying Transfer learning (VGG16 model)"
      ]
    },
    {
      "cell_type": "code",
      "metadata": {
        "id": "Of060iqts6_5",
        "colab_type": "code",
        "outputId": "b124ed13-6f73-429a-cad2-a28968d4615f",
        "colab": {
          "base_uri": "https://localhost:8080/",
          "height": 70
        }
      },
      "source": [
        "from keras.applications.vgg16 import VGG16\n",
        "\n",
        "model_vgg16 = VGG16(weights='imagenet', include_top=False,input_shape=(128,128,3))\n",
        "\n",
        "#Adding custom Layers \n",
        "x = model_vgg16.output\n",
        "x = Flatten()(x)\n",
        "x = Dense(1024, activation=\"relu\")(x)\n",
        "x = Dropout(0.5)(x)\n",
        "x = Dense(1024, activation=\"relu\")(x)\n",
        "predictions = Dense(2, activation=\"softmax\")(x)"
      ],
      "execution_count": 39,
      "outputs": [
        {
          "output_type": "stream",
          "text": [
            "Downloading data from https://github.com/fchollet/deep-learning-models/releases/download/v0.1/vgg16_weights_tf_dim_ordering_tf_kernels_notop.h5\n",
            "58892288/58889256 [==============================] - 4s 0us/step\n"
          ],
          "name": "stdout"
        }
      ]
    },
    {
      "cell_type": "code",
      "metadata": {
        "id": "HUQrJkcrs687",
        "colab_type": "code",
        "outputId": "89ac0933-37dd-426e-89a6-9fadd644f271",
        "colab": {
          "base_uri": "https://localhost:8080/",
          "height": 70
        }
      },
      "source": [
        "from keras.models import Sequential, Model\n",
        "\n",
        "model_final = Model(input = model_vgg16.input , output = predictions)"
      ],
      "execution_count": 40,
      "outputs": [
        {
          "output_type": "stream",
          "text": [
            "/usr/local/lib/python3.6/dist-packages/ipykernel_launcher.py:3: UserWarning: Update your `Model` call to the Keras 2 API: `Model(inputs=Tensor(\"in..., outputs=Tensor(\"de...)`\n",
            "  This is separate from the ipykernel package so we can avoid doing imports until\n"
          ],
          "name": "stderr"
        }
      ]
    },
    {
      "cell_type": "code",
      "metadata": {
        "id": "E0JVt86R4DWF",
        "colab_type": "code",
        "outputId": "86620d5c-83fa-4663-bf68-50b305c6c6f0",
        "colab": {
          "base_uri": "https://localhost:8080/",
          "height": 941
        }
      },
      "source": [
        "model_final.summary()"
      ],
      "execution_count": 42,
      "outputs": [
        {
          "output_type": "stream",
          "text": [
            "_________________________________________________________________\n",
            "Layer (type)                 Output Shape              Param #   \n",
            "=================================================================\n",
            "input_1 (InputLayer)         (None, 128, 128, 3)       0         \n",
            "_________________________________________________________________\n",
            "block1_conv1 (Conv2D)        (None, 128, 128, 64)      1792      \n",
            "_________________________________________________________________\n",
            "block1_conv2 (Conv2D)        (None, 128, 128, 64)      36928     \n",
            "_________________________________________________________________\n",
            "block1_pool (MaxPooling2D)   (None, 64, 64, 64)        0         \n",
            "_________________________________________________________________\n",
            "block2_conv1 (Conv2D)        (None, 64, 64, 128)       73856     \n",
            "_________________________________________________________________\n",
            "block2_conv2 (Conv2D)        (None, 64, 64, 128)       147584    \n",
            "_________________________________________________________________\n",
            "block2_pool (MaxPooling2D)   (None, 32, 32, 128)       0         \n",
            "_________________________________________________________________\n",
            "block3_conv1 (Conv2D)        (None, 32, 32, 256)       295168    \n",
            "_________________________________________________________________\n",
            "block3_conv2 (Conv2D)        (None, 32, 32, 256)       590080    \n",
            "_________________________________________________________________\n",
            "block3_conv3 (Conv2D)        (None, 32, 32, 256)       590080    \n",
            "_________________________________________________________________\n",
            "block3_pool (MaxPooling2D)   (None, 16, 16, 256)       0         \n",
            "_________________________________________________________________\n",
            "block4_conv1 (Conv2D)        (None, 16, 16, 512)       1180160   \n",
            "_________________________________________________________________\n",
            "block4_conv2 (Conv2D)        (None, 16, 16, 512)       2359808   \n",
            "_________________________________________________________________\n",
            "block4_conv3 (Conv2D)        (None, 16, 16, 512)       2359808   \n",
            "_________________________________________________________________\n",
            "block4_pool (MaxPooling2D)   (None, 8, 8, 512)         0         \n",
            "_________________________________________________________________\n",
            "block5_conv1 (Conv2D)        (None, 8, 8, 512)         2359808   \n",
            "_________________________________________________________________\n",
            "block5_conv2 (Conv2D)        (None, 8, 8, 512)         2359808   \n",
            "_________________________________________________________________\n",
            "block5_conv3 (Conv2D)        (None, 8, 8, 512)         2359808   \n",
            "_________________________________________________________________\n",
            "block5_pool (MaxPooling2D)   (None, 4, 4, 512)         0         \n",
            "_________________________________________________________________\n",
            "flatten_2 (Flatten)          (None, 8192)              0         \n",
            "_________________________________________________________________\n",
            "dense_3 (Dense)              (None, 1024)              8389632   \n",
            "_________________________________________________________________\n",
            "dropout_4 (Dropout)          (None, 1024)              0         \n",
            "_________________________________________________________________\n",
            "dense_4 (Dense)              (None, 1024)              1049600   \n",
            "_________________________________________________________________\n",
            "dense_5 (Dense)              (None, 2)                 2050      \n",
            "=================================================================\n",
            "Total params: 24,155,970\n",
            "Trainable params: 24,155,970\n",
            "Non-trainable params: 0\n",
            "_________________________________________________________________\n"
          ],
          "name": "stdout"
        }
      ]
    },
    {
      "cell_type": "code",
      "metadata": {
        "id": "fikobnMf4DZH",
        "colab_type": "code",
        "colab": {}
      },
      "source": [
        "optim = Adam(lr=0.001, beta_1=0.9, beta_2=0.999, epsilon=None, decay=0.0, amsgrad=False)"
      ],
      "execution_count": 0,
      "outputs": []
    },
    {
      "cell_type": "code",
      "metadata": {
        "id": "Hv8nhG2l4Db2",
        "colab_type": "code",
        "colab": {}
      },
      "source": [
        "from keras.callbacks import ReduceLROnPlateau\n",
        "learning_rate_reduction = ReduceLROnPlateau(monitor='val_acc', \n",
        "                                            patience=3, \n",
        "                                            verbose=1, \n",
        "                                            factor=0.2, \n",
        "                                            min_lr=0.00001)"
      ],
      "execution_count": 0,
      "outputs": []
    },
    {
      "cell_type": "code",
      "metadata": {
        "id": "BX6W7B4Y4Dev",
        "colab_type": "code",
        "colab": {}
      },
      "source": [
        "\n",
        "epochs = 10\n",
        "batch_size = 100\n",
        "\n",
        "nb_train_samples=int(train_x.shape[0])\n",
        "nb_validation_samples=int(test_x.shape[0])\n",
        "\n",
        "steps_per_epoch=nb_train_samples // batch_size\n",
        "validation_steps=nb_validation_samples // batch_size"
      ],
      "execution_count": 0,
      "outputs": []
    },
    {
      "cell_type": "code",
      "metadata": {
        "id": "7ZzVztw34DiA",
        "colab_type": "code",
        "outputId": "3dd6bf1c-8403-4c89-d90c-5c62a6da9410",
        "colab": {
          "base_uri": "https://localhost:8080/",
          "height": 84
        }
      },
      "source": [
        "print(nb_train_samples)\n",
        "print(nb_validation_samples)\n",
        "print(steps_per_epoch)\n",
        "print(validation_steps)"
      ],
      "execution_count": 46,
      "outputs": [
        {
          "output_type": "stream",
          "text": [
            "20000\n",
            "5000\n",
            "200\n",
            "50\n"
          ],
          "name": "stdout"
        }
      ]
    },
    {
      "cell_type": "code",
      "metadata": {
        "id": "-O82jY-N4DnV",
        "colab_type": "code",
        "colab": {}
      },
      "source": [
        "model_final.compile(optimizer = optim , loss = \"categorical_crossentropy\", metrics=[\"accuracy\"])"
      ],
      "execution_count": 0,
      "outputs": []
    },
    {
      "cell_type": "code",
      "metadata": {
        "id": "BghziLRE4DlK",
        "colab_type": "code",
        "outputId": "5cef89bd-149b-45ca-bbba-8044f6fef191",
        "colab": {
          "base_uri": "https://localhost:8080/",
          "height": 420
        }
      },
      "source": [
        "history=model_final.fit_generator(\n",
        "    train_generator, \n",
        "    steps_per_epoch=steps_per_epoch,\n",
        "    epochs=epochs,\n",
        "    validation_data=validation_generator,\n",
        "    validation_steps=validation_steps,\n",
        "    callbacks=[learning_rate_reduction]\n",
        ")"
      ],
      "execution_count": 48,
      "outputs": [
        {
          "output_type": "stream",
          "text": [
            "Epoch 1/10\n",
            "200/200 [==============================] - 114s 569ms/step - loss: 0.7377 - acc: 0.4976 - val_loss: 0.6933 - val_acc: 0.4982\n",
            "Epoch 2/10\n",
            "200/200 [==============================] - 101s 503ms/step - loss: 0.6932 - acc: 0.4966 - val_loss: 0.6931 - val_acc: 0.5028\n",
            "Epoch 3/10\n",
            "200/200 [==============================] - 101s 504ms/step - loss: 0.6932 - acc: 0.5027 - val_loss: 0.6931 - val_acc: 0.5044\n",
            "Epoch 4/10\n",
            "200/200 [==============================] - 100s 502ms/step - loss: 0.6933 - acc: 0.4966 - val_loss: 0.6932 - val_acc: 0.4978\n",
            "Epoch 5/10\n",
            "200/200 [==============================] - 100s 502ms/step - loss: 0.6932 - acc: 0.5039 - val_loss: 0.6932 - val_acc: 0.4968\n",
            "Epoch 6/10\n",
            "200/200 [==============================] - 101s 503ms/step - loss: 0.6933 - acc: 0.4952 - val_loss: 0.6932 - val_acc: 0.4980\n",
            "\n",
            "Epoch 00006: ReduceLROnPlateau reducing learning rate to 0.00020000000949949026.\n",
            "Epoch 7/10\n",
            "200/200 [==============================] - 101s 503ms/step - loss: 0.6932 - acc: 0.4929 - val_loss: 0.6932 - val_acc: 0.4958\n",
            "Epoch 8/10\n",
            "200/200 [==============================] - 101s 504ms/step - loss: 0.6932 - acc: 0.4945 - val_loss: 0.6932 - val_acc: 0.4980\n",
            "Epoch 9/10\n",
            "200/200 [==============================] - 101s 504ms/step - loss: 0.6932 - acc: 0.4967 - val_loss: 0.6931 - val_acc: 0.5036\n",
            "\n",
            "Epoch 00009: ReduceLROnPlateau reducing learning rate to 4.0000001899898055e-05.\n",
            "Epoch 10/10\n",
            "200/200 [==============================] - 101s 503ms/step - loss: 0.6932 - acc: 0.4994 - val_loss: 0.6931 - val_acc: 0.5006\n"
          ],
          "name": "stdout"
        }
      ]
    },
    {
      "cell_type": "code",
      "metadata": {
        "id": "JzJi-Qur6mvT",
        "colab_type": "code",
        "colab": {}
      },
      "source": [
        "# summarize history for accuracy\n",
        "plt.plot(history.history['acc'])\n",
        "plt.plot(history.history['val_acc'])\n",
        "plt.title('model accuracy')\n",
        "plt.ylabel('accuracy')\n",
        "plt.xlabel('epoch')\n",
        "plt.legend(['train', 'test'], loc='upper left')\n",
        "plt.show()\n",
        "# summarize history for loss\n",
        "plt.plot(history.history['loss'])\n",
        "plt.plot(history.history['val_loss'])\n",
        "plt.title('model loss')\n",
        "plt.ylabel('loss')\n",
        "plt.xlabel('epoch')\n",
        "plt.legend(['train', 'test'], loc='upper left')\n",
        "plt.show()"
      ],
      "execution_count": 0,
      "outputs": []
    },
    {
      "cell_type": "code",
      "metadata": {
        "id": "H_v8kSo86oCA",
        "colab_type": "code",
        "outputId": "16be0c20-9fff-4d55-cb1e-424e4e46622a",
        "colab": {
          "base_uri": "https://localhost:8080/",
          "height": 34
        }
      },
      "source": [
        "new_model.evaluate_generator(train_generator,train_steps)"
      ],
      "execution_count": 50,
      "outputs": [
        {
          "output_type": "execute_result",
          "data": {
            "text/plain": [
              "[0.09308100691065192, 0.968500007390976]"
            ]
          },
          "metadata": {
            "tags": []
          },
          "execution_count": 50
        }
      ]
    },
    {
      "cell_type": "code",
      "metadata": {
        "id": "9NYYAQa06mzX",
        "colab_type": "code",
        "outputId": "85b17837-aa63-4abe-edca-fde3d715b10b",
        "colab": {
          "base_uri": "https://localhost:8080/",
          "height": 34
        }
      },
      "source": [
        "new_model.evaluate_generator(validation_generator,validation_steps)"
      ],
      "execution_count": 51,
      "outputs": [
        {
          "output_type": "execute_result",
          "data": {
            "text/plain": [
              "[0.26256233632564546, 0.8999999988079072]"
            ]
          },
          "metadata": {
            "tags": []
          },
          "execution_count": 51
        }
      ]
    },
    {
      "cell_type": "code",
      "metadata": {
        "id": "n9A9f_xC6nG-",
        "colab_type": "code",
        "colab": {
          "base_uri": "https://localhost:8080/",
          "height": 50
        },
        "outputId": "0a63fc62-8d9b-49f0-c5ab-a81914faabf8"
      },
      "source": [
        "new_model.evaluate(test_x,test_y)"
      ],
      "execution_count": 52,
      "outputs": [
        {
          "output_type": "stream",
          "text": [
            "5000/5000 [==============================] - 3s 526us/step\n"
          ],
          "name": "stdout"
        },
        {
          "output_type": "execute_result",
          "data": {
            "text/plain": [
              "[2.967984482192993, 0.8122]"
            ]
          },
          "metadata": {
            "tags": []
          },
          "execution_count": 52
        }
      ]
    }
  ]
}